{
 "cells": [
  {
   "cell_type": "markdown",
   "metadata": {},
   "source": [
    "<center>\n",
    "    <img src=\"https://cf-courses-data.s3.us.cloud-object-storage.appdomain.cloud/IBMDeveloperSkillsNetwork-DS0105EN-SkillsNetwork/labs/Module2/images/SN_web_lightmode.png\" width=\"300\" alt=\"cognitiveclass.ai logo\">\n",
    "</center>\n"
   ]
  },
  {
   "cell_type": "markdown",
   "metadata": {},
   "source": [
    "#### Add your code below following the instructions given in the course\n"
   ]
  },
  {
   "cell_type": "markdown",
   "metadata": {},
   "source": [
    "<h1>Data Science Tools and Ecosystem</h1>"
   ]
  },
  {
   "cell_type": "markdown",
   "metadata": {},
   "source": [
    "<p>Herramientas para Data Science, utilizamos una serie de herramientas para visualizar, limpiar y organizar los datos</p>"
   ]
  },
  {
   "cell_type": "markdown",
   "metadata": {},
   "source": [
    "<h2>Lenguajes</h2>\n",
    "<table>\n",
    "    <li>Python</li>\n",
    "    <li>R</li>\n",
    "    <li>SQL</li>\n",
    "</table>"
   ]
  },
  {
   "cell_type": "markdown",
   "metadata": {},
   "source": [
    "<h2>Bibliotecas</h2>\n",
    "<table>\n",
    "    <li>NumPy</li>\n",
    "    <li>Pandas</li>\n",
    "    <li>Matplotlib</li>\n",
    "</table>"
   ]
  },
  {
   "cell_type": "markdown",
   "metadata": {},
   "source": [
    "<h2>Herramientas</h2>\n",
    "<table>\n",
    "    <li>Jupyter Notebook</li>\n",
    "    <li>RStudio</li>\n",
    "    <li>Apache Zeppelin</li>\n",
    "</table>"
   ]
  },
  {
   "cell_type": "code",
   "execution_count": 3,
   "metadata": {},
   "outputs": [
    {
     "name": "stdout",
     "output_type": "stream",
     "text": [
      "El resultado de (3 * 4) + 5 es: 17\n"
     ]
    }
   ],
   "source": [
    "resultado = (3 * 4) + 5\n",
    "print(\"El resultado de (3 * 4) + 5 es:\", resultado)"
   ]
  },
  {
   "cell_type": "code",
   "execution_count": 1,
   "metadata": {},
   "outputs": [
    {
     "name": "stdout",
     "output_type": "stream",
     "text": [
      "200 minutos son equivalentes a 3.3333333333333335 horas\n"
     ]
    }
   ],
   "source": [
    "minutos = 200\n",
    "horas = minutos / 60\n",
    "print(\"200 minutos son equivalentes a\", horas, \"horas\")"
   ]
  },
  {
   "cell_type": "markdown",
   "metadata": {},
   "source": [
    "<h2>Objetivos</h2>\n",
    "<li>1.- Título</li>\n",
    "<li>2.- Textos</li>\n",
    "<li>3.- Lista de Lenguajes</li>\n",
    "<li>4.- Lista de Bibliotecas</li>\n",
    "<li>5.- Lista de Herramientas</li>\n",
    "<li>6.- Resultado de (3 * 4) + 5</li>\n",
    "<li>7.- Resultado de conversión de horas</li>\n",
    "<li>8.- Objetivos</li>\n",
    "<li>8.- Objetivos</li>"
   ]
  }
 ],
 "metadata": {
  "kernelspec": {
   "display_name": "Python 3 (ipykernel)",
   "language": "python",
   "name": "python3"
  },
  "language_info": {
   "codemirror_mode": {
    "name": "ipython",
    "version": 3
   },
   "file_extension": ".py",
   "mimetype": "text/x-python",
   "name": "python",
   "nbconvert_exporter": "python",
   "pygments_lexer": "ipython3",
   "version": "3.11.9"
  }
 },
 "nbformat": 4,
 "nbformat_minor": 4
}
